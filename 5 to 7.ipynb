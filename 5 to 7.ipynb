{
 "cells": [
  {
   "cell_type": "markdown",
   "id": "c3c37753",
   "metadata": {},
   "source": [
    "# Python for Data Analysis\n",
    "## - 5 to 7"
   ]
  },
  {
   "cell_type": "markdown",
   "id": "7bdd9462",
   "metadata": {},
   "source": [
    "## 5 Getting Started with pandas"
   ]
  },
  {
   "cell_type": "markdown",
   "id": "80de5ed2",
   "metadata": {},
   "source": [
    "Pandas contiene estructuras de datos y herramientas de manipulación de datos diseñadas para hacer que la limpieza y el análisis de datos sean rápidos y convenientes en Python. Esta suele ser utilizada junto con herramientas de computación numérica como NumPy y SciPy, bibliotecas analíticas como statsmodels y scikit-learn, y bibliotecas de visualización de datos como matplotlib.\n",
    "\n",
    "Pandad adopta diversos modismos de codificacion de NumPy, pero a defierencia de este Pandas esta diseñado para trabajar con datos tabulares o heterogeneos.\n",
    "Siempre que se vea \"pd\" en el código se refiere a Pandas. También puede ser más fácil importar Series y DataFrame al espacio de nombres local."
   ]
  },
  {
   "cell_type": "code",
   "execution_count": 74,
   "id": "991fd7a5",
   "metadata": {},
   "outputs": [],
   "source": [
    " import numpy as np\n",
    "\n",
    " import pandas as pd"
   ]
  },
  {
   "cell_type": "code",
   "execution_count": 17,
   "id": "8974aac7",
   "metadata": {},
   "outputs": [],
   "source": [
    " from pandas import Series, DataFrame"
   ]
  },
  {
   "cell_type": "markdown",
   "id": "af6c071f",
   "metadata": {},
   "source": [
    "**Introduction to pandas Data Structures**\n",
    "\n",
    "*Series*\n",
    "\n",
    "Una Serie es un objeto unidimensional similar a una matriz que contiene una secuencia de valores del mismo tipo y una matriz asociada de etiquetas de datos, llamada **index**."
   ]
  },
  {
   "cell_type": "code",
   "execution_count": 40,
   "id": "ac9f85f2",
   "metadata": {},
   "outputs": [
    {
     "data": {
      "text/plain": [
       "0    1\n",
       "1    3\n",
       "2    6\n",
       "3    5\n",
       "dtype: int64"
      ]
     },
     "execution_count": 40,
     "metadata": {},
     "output_type": "execute_result"
    }
   ],
   "source": [
    " obj = pd.Series([1, 3, 6, 5])\n",
    "\n",
    " obj\n"
   ]
  },
  {
   "cell_type": "markdown",
   "id": "7393c4f0",
   "metadata": {},
   "source": [
    "Como no se especifica un *index* para los datos, se crea uno predeterminado que consta de números enteros \"0\" hasta \"N - 1\".\n",
    "Se puede obtener una representación del *Array* y del *Index*  de la Serie a traves del **Array** y **Index** ej:"
   ]
  },
  {
   "cell_type": "code",
   "execution_count": 41,
   "id": "e8c0018c",
   "metadata": {},
   "outputs": [
    {
     "data": {
      "text/plain": [
       "<PandasArray>\n",
       "[1, 3, 6, 5]\n",
       "Length: 4, dtype: int64"
      ]
     },
     "execution_count": 41,
     "metadata": {},
     "output_type": "execute_result"
    }
   ],
   "source": [
    " obj.array\n"
   ]
  },
  {
   "cell_type": "code",
   "execution_count": 42,
   "id": "e5654e5d",
   "metadata": {},
   "outputs": [
    {
     "data": {
      "text/plain": [
       "RangeIndex(start=0, stop=4, step=1)"
      ]
     },
     "execution_count": 42,
     "metadata": {},
     "output_type": "execute_result"
    }
   ],
   "source": [
    " obj.index"
   ]
  },
  {
   "cell_type": "markdown",
   "id": "f938dc25",
   "metadata": {},
   "source": [
    "Atraves de Panda es posible agregar etiquetas al index de la Serie.\n",
    "ej:"
   ]
  },
  {
   "cell_type": "code",
   "execution_count": 43,
   "id": "db93537d",
   "metadata": {},
   "outputs": [
    {
     "data": {
      "text/plain": [
       "a    1\n",
       "b    3\n",
       "c    6\n",
       "d    5\n",
       "dtype: int64"
      ]
     },
     "execution_count": 43,
     "metadata": {},
     "output_type": "execute_result"
    }
   ],
   "source": [
    " obj2 = pd.Series([1, 3, 6, 5] , index=[\"a\", \"b\", \"c\", \"d\"])\n",
    "     \n",
    " obj2"
   ]
  },
  {
   "cell_type": "code",
   "execution_count": 44,
   "id": "fb368bd5",
   "metadata": {},
   "outputs": [
    {
     "data": {
      "text/plain": [
       "Index(['a', 'b', 'c', 'd'], dtype='object')"
      ]
     },
     "execution_count": 44,
     "metadata": {},
     "output_type": "execute_result"
    }
   ],
   "source": [
    "obj2.index"
   ]
  },
  {
   "cell_type": "markdown",
   "id": "fc3cebd1",
   "metadata": {},
   "source": [
    "A diferencia de NumPy se puede usar etiquetas en el index al seleccionar valores individuales o un conjunto de valores.\n",
    "Otra manera de ver a la Serie es como un diccionario ordenado de longitud fija, ya que es una asignación de valores de índice a valores de datos. También se puede utilizar en otros contextos en los que se utilizaria un diccionario."
   ]
  },
  {
   "cell_type": "code",
   "execution_count": 45,
   "id": "1a8db85c",
   "metadata": {},
   "outputs": [
    {
     "data": {
      "text/plain": [
       "True"
      ]
     },
     "execution_count": 45,
     "metadata": {},
     "output_type": "execute_result"
    }
   ],
   "source": [
    " \"b\" in obj2\n"
   ]
  },
  {
   "cell_type": "code",
   "execution_count": 46,
   "id": "f262148f",
   "metadata": {},
   "outputs": [
    {
     "data": {
      "text/plain": [
       "False"
      ]
     },
     "execution_count": 46,
     "metadata": {},
     "output_type": "execute_result"
    }
   ],
   "source": [
    "\"h\" in obj2"
   ]
  },
  {
   "cell_type": "markdown",
   "id": "8b6e3458",
   "metadata": {},
   "source": [
    "\n",
    "Una Serie se puede volver a convertir en un diccionario con su **to_dict**"
   ]
  },
  {
   "cell_type": "markdown",
   "id": "dd1d71e5",
   "metadata": {},
   "source": [
    "**Data Frame**\n",
    "\n",
    "El *Data Frame* representa una tabla rectangular de datos y contiene una colección ordenada de columnas con nombre, cada una de las cuales puede tener un tipo de valor diferente. Se puede considerar como un diccionario de series que comparten el mismo index.\n",
    "\n",
    "Hay distintas formas para construir un DataFrame, una de las mas comunes es a partir de un diccionario de listas de igual longitud o matrices NumPy."
   ]
  },
  {
   "cell_type": "code",
   "execution_count": 47,
   "id": "3b0895b8",
   "metadata": {},
   "outputs": [],
   "source": [
    "data = {\"state\": [\"Chih\", \"Chih\", \"Chih\", \"N.L\", \"N.L\", \"N.L\"],\n",
    "        \"year\": [2000, 2001, 2002, 2000, 2001, 2002],\n",
    "        \"pop\": [1.5, 1.6, 3.3, 1.5, 1.6, 3.3]}\n",
    "frame = pd.DataFrame(data)"
   ]
  },
  {
   "cell_type": "markdown",
   "id": "a37847c0",
   "metadata": {},
   "source": [
    "El *Index* se le es asignado automaticamente como sucede en *Series* y las columnas se colocan según el orden de las claves **data**."
   ]
  },
  {
   "cell_type": "code",
   "execution_count": 48,
   "id": "59661325",
   "metadata": {},
   "outputs": [
    {
     "data": {
      "text/html": [
       "<div>\n",
       "<style scoped>\n",
       "    .dataframe tbody tr th:only-of-type {\n",
       "        vertical-align: middle;\n",
       "    }\n",
       "\n",
       "    .dataframe tbody tr th {\n",
       "        vertical-align: top;\n",
       "    }\n",
       "\n",
       "    .dataframe thead th {\n",
       "        text-align: right;\n",
       "    }\n",
       "</style>\n",
       "<table border=\"1\" class=\"dataframe\">\n",
       "  <thead>\n",
       "    <tr style=\"text-align: right;\">\n",
       "      <th></th>\n",
       "      <th>state</th>\n",
       "      <th>year</th>\n",
       "      <th>pop</th>\n",
       "    </tr>\n",
       "  </thead>\n",
       "  <tbody>\n",
       "    <tr>\n",
       "      <th>0</th>\n",
       "      <td>Chih</td>\n",
       "      <td>2000</td>\n",
       "      <td>1.5</td>\n",
       "    </tr>\n",
       "    <tr>\n",
       "      <th>1</th>\n",
       "      <td>Chih</td>\n",
       "      <td>2001</td>\n",
       "      <td>1.6</td>\n",
       "    </tr>\n",
       "    <tr>\n",
       "      <th>2</th>\n",
       "      <td>Chih</td>\n",
       "      <td>2002</td>\n",
       "      <td>3.3</td>\n",
       "    </tr>\n",
       "    <tr>\n",
       "      <th>3</th>\n",
       "      <td>N.L</td>\n",
       "      <td>2000</td>\n",
       "      <td>1.5</td>\n",
       "    </tr>\n",
       "    <tr>\n",
       "      <th>4</th>\n",
       "      <td>N.L</td>\n",
       "      <td>2001</td>\n",
       "      <td>1.6</td>\n",
       "    </tr>\n",
       "    <tr>\n",
       "      <th>5</th>\n",
       "      <td>N.L</td>\n",
       "      <td>2002</td>\n",
       "      <td>3.3</td>\n",
       "    </tr>\n",
       "  </tbody>\n",
       "</table>\n",
       "</div>"
      ],
      "text/plain": [
       "  state  year  pop\n",
       "0  Chih  2000  1.5\n",
       "1  Chih  2001  1.6\n",
       "2  Chih  2002  3.3\n",
       "3   N.L  2000  1.5\n",
       "4   N.L  2001  1.6\n",
       "5   N.L  2002  3.3"
      ]
     },
     "execution_count": 48,
     "metadata": {},
     "output_type": "execute_result"
    }
   ],
   "source": [
    " frame"
   ]
  },
  {
   "cell_type": "markdown",
   "id": "333f4198",
   "metadata": {},
   "source": [
    "Para *DataFrames* grandes, el **head**  selecciona solo las primeras cinco filas. "
   ]
  },
  {
   "cell_type": "code",
   "execution_count": 49,
   "id": "791c93ec",
   "metadata": {},
   "outputs": [
    {
     "data": {
      "text/html": [
       "<div>\n",
       "<style scoped>\n",
       "    .dataframe tbody tr th:only-of-type {\n",
       "        vertical-align: middle;\n",
       "    }\n",
       "\n",
       "    .dataframe tbody tr th {\n",
       "        vertical-align: top;\n",
       "    }\n",
       "\n",
       "    .dataframe thead th {\n",
       "        text-align: right;\n",
       "    }\n",
       "</style>\n",
       "<table border=\"1\" class=\"dataframe\">\n",
       "  <thead>\n",
       "    <tr style=\"text-align: right;\">\n",
       "      <th></th>\n",
       "      <th>state</th>\n",
       "      <th>year</th>\n",
       "      <th>pop</th>\n",
       "    </tr>\n",
       "  </thead>\n",
       "  <tbody>\n",
       "    <tr>\n",
       "      <th>0</th>\n",
       "      <td>Chih</td>\n",
       "      <td>2000</td>\n",
       "      <td>1.5</td>\n",
       "    </tr>\n",
       "    <tr>\n",
       "      <th>1</th>\n",
       "      <td>Chih</td>\n",
       "      <td>2001</td>\n",
       "      <td>1.6</td>\n",
       "    </tr>\n",
       "    <tr>\n",
       "      <th>2</th>\n",
       "      <td>Chih</td>\n",
       "      <td>2002</td>\n",
       "      <td>3.3</td>\n",
       "    </tr>\n",
       "    <tr>\n",
       "      <th>3</th>\n",
       "      <td>N.L</td>\n",
       "      <td>2000</td>\n",
       "      <td>1.5</td>\n",
       "    </tr>\n",
       "    <tr>\n",
       "      <th>4</th>\n",
       "      <td>N.L</td>\n",
       "      <td>2001</td>\n",
       "      <td>1.6</td>\n",
       "    </tr>\n",
       "  </tbody>\n",
       "</table>\n",
       "</div>"
      ],
      "text/plain": [
       "  state  year  pop\n",
       "0  Chih  2000  1.5\n",
       "1  Chih  2001  1.6\n",
       "2  Chih  2002  3.3\n",
       "3   N.L  2000  1.5\n",
       "4   N.L  2001  1.6"
      ]
     },
     "execution_count": 49,
     "metadata": {},
     "output_type": "execute_result"
    }
   ],
   "source": [
    " frame.head()"
   ]
  },
  {
   "cell_type": "markdown",
   "id": "6babcf1d",
   "metadata": {},
   "source": [
    "**Tail** devuelve las primeras 5 filas."
   ]
  },
  {
   "cell_type": "code",
   "execution_count": 50,
   "id": "ff64ef91",
   "metadata": {},
   "outputs": [
    {
     "data": {
      "text/html": [
       "<div>\n",
       "<style scoped>\n",
       "    .dataframe tbody tr th:only-of-type {\n",
       "        vertical-align: middle;\n",
       "    }\n",
       "\n",
       "    .dataframe tbody tr th {\n",
       "        vertical-align: top;\n",
       "    }\n",
       "\n",
       "    .dataframe thead th {\n",
       "        text-align: right;\n",
       "    }\n",
       "</style>\n",
       "<table border=\"1\" class=\"dataframe\">\n",
       "  <thead>\n",
       "    <tr style=\"text-align: right;\">\n",
       "      <th></th>\n",
       "      <th>state</th>\n",
       "      <th>year</th>\n",
       "      <th>pop</th>\n",
       "    </tr>\n",
       "  </thead>\n",
       "  <tbody>\n",
       "    <tr>\n",
       "      <th>1</th>\n",
       "      <td>Chih</td>\n",
       "      <td>2001</td>\n",
       "      <td>1.6</td>\n",
       "    </tr>\n",
       "    <tr>\n",
       "      <th>2</th>\n",
       "      <td>Chih</td>\n",
       "      <td>2002</td>\n",
       "      <td>3.3</td>\n",
       "    </tr>\n",
       "    <tr>\n",
       "      <th>3</th>\n",
       "      <td>N.L</td>\n",
       "      <td>2000</td>\n",
       "      <td>1.5</td>\n",
       "    </tr>\n",
       "    <tr>\n",
       "      <th>4</th>\n",
       "      <td>N.L</td>\n",
       "      <td>2001</td>\n",
       "      <td>1.6</td>\n",
       "    </tr>\n",
       "    <tr>\n",
       "      <th>5</th>\n",
       "      <td>N.L</td>\n",
       "      <td>2002</td>\n",
       "      <td>3.3</td>\n",
       "    </tr>\n",
       "  </tbody>\n",
       "</table>\n",
       "</div>"
      ],
      "text/plain": [
       "  state  year  pop\n",
       "1  Chih  2001  1.6\n",
       "2  Chih  2002  3.3\n",
       "3   N.L  2000  1.5\n",
       "4   N.L  2001  1.6\n",
       "5   N.L  2002  3.3"
      ]
     },
     "execution_count": 50,
     "metadata": {},
     "output_type": "execute_result"
    }
   ],
   "source": [
    " frame.tail()"
   ]
  },
  {
   "cell_type": "markdown",
   "id": "395ca49d",
   "metadata": {},
   "source": [
    "Si se especifica una secuencia de columnas, las columnas del DataFrame se organizarán en ese orden. Pero si hay una columna que no viene incluida en el diccionario, esta aparecera con valores faltantes en el resultado.\n"
   ]
  },
  {
   "cell_type": "code",
   "execution_count": 51,
   "id": "d1f903dc",
   "metadata": {},
   "outputs": [
    {
     "data": {
      "text/html": [
       "<div>\n",
       "<style scoped>\n",
       "    .dataframe tbody tr th:only-of-type {\n",
       "        vertical-align: middle;\n",
       "    }\n",
       "\n",
       "    .dataframe tbody tr th {\n",
       "        vertical-align: top;\n",
       "    }\n",
       "\n",
       "    .dataframe thead th {\n",
       "        text-align: right;\n",
       "    }\n",
       "</style>\n",
       "<table border=\"1\" class=\"dataframe\">\n",
       "  <thead>\n",
       "    <tr style=\"text-align: right;\">\n",
       "      <th></th>\n",
       "      <th>pop</th>\n",
       "      <th>year</th>\n",
       "      <th>state</th>\n",
       "    </tr>\n",
       "  </thead>\n",
       "  <tbody>\n",
       "    <tr>\n",
       "      <th>0</th>\n",
       "      <td>1.5</td>\n",
       "      <td>2000</td>\n",
       "      <td>Chih</td>\n",
       "    </tr>\n",
       "    <tr>\n",
       "      <th>1</th>\n",
       "      <td>1.6</td>\n",
       "      <td>2001</td>\n",
       "      <td>Chih</td>\n",
       "    </tr>\n",
       "    <tr>\n",
       "      <th>2</th>\n",
       "      <td>3.3</td>\n",
       "      <td>2002</td>\n",
       "      <td>Chih</td>\n",
       "    </tr>\n",
       "    <tr>\n",
       "      <th>3</th>\n",
       "      <td>1.5</td>\n",
       "      <td>2000</td>\n",
       "      <td>N.L</td>\n",
       "    </tr>\n",
       "    <tr>\n",
       "      <th>4</th>\n",
       "      <td>1.6</td>\n",
       "      <td>2001</td>\n",
       "      <td>N.L</td>\n",
       "    </tr>\n",
       "    <tr>\n",
       "      <th>5</th>\n",
       "      <td>3.3</td>\n",
       "      <td>2002</td>\n",
       "      <td>N.L</td>\n",
       "    </tr>\n",
       "  </tbody>\n",
       "</table>\n",
       "</div>"
      ],
      "text/plain": [
       "   pop  year state\n",
       "0  1.5  2000  Chih\n",
       "1  1.6  2001  Chih\n",
       "2  3.3  2002  Chih\n",
       "3  1.5  2000   N.L\n",
       "4  1.6  2001   N.L\n",
       "5  3.3  2002   N.L"
      ]
     },
     "execution_count": 51,
     "metadata": {},
     "output_type": "execute_result"
    }
   ],
   "source": [
    " pd.DataFrame(data, columns=[\"pop\", \"year\", \"state\"])"
   ]
  },
  {
   "cell_type": "code",
   "execution_count": 52,
   "id": "b7c0e9eb",
   "metadata": {},
   "outputs": [
    {
     "data": {
      "text/html": [
       "<div>\n",
       "<style scoped>\n",
       "    .dataframe tbody tr th:only-of-type {\n",
       "        vertical-align: middle;\n",
       "    }\n",
       "\n",
       "    .dataframe tbody tr th {\n",
       "        vertical-align: top;\n",
       "    }\n",
       "\n",
       "    .dataframe thead th {\n",
       "        text-align: right;\n",
       "    }\n",
       "</style>\n",
       "<table border=\"1\" class=\"dataframe\">\n",
       "  <thead>\n",
       "    <tr style=\"text-align: right;\">\n",
       "      <th></th>\n",
       "      <th>pop</th>\n",
       "      <th>year</th>\n",
       "      <th>state</th>\n",
       "      <th>$</th>\n",
       "    </tr>\n",
       "  </thead>\n",
       "  <tbody>\n",
       "    <tr>\n",
       "      <th>0</th>\n",
       "      <td>1.5</td>\n",
       "      <td>2000</td>\n",
       "      <td>Chih</td>\n",
       "      <td>NaN</td>\n",
       "    </tr>\n",
       "    <tr>\n",
       "      <th>1</th>\n",
       "      <td>1.6</td>\n",
       "      <td>2001</td>\n",
       "      <td>Chih</td>\n",
       "      <td>NaN</td>\n",
       "    </tr>\n",
       "    <tr>\n",
       "      <th>2</th>\n",
       "      <td>3.3</td>\n",
       "      <td>2002</td>\n",
       "      <td>Chih</td>\n",
       "      <td>NaN</td>\n",
       "    </tr>\n",
       "    <tr>\n",
       "      <th>3</th>\n",
       "      <td>1.5</td>\n",
       "      <td>2000</td>\n",
       "      <td>N.L</td>\n",
       "      <td>NaN</td>\n",
       "    </tr>\n",
       "    <tr>\n",
       "      <th>4</th>\n",
       "      <td>1.6</td>\n",
       "      <td>2001</td>\n",
       "      <td>N.L</td>\n",
       "      <td>NaN</td>\n",
       "    </tr>\n",
       "    <tr>\n",
       "      <th>5</th>\n",
       "      <td>3.3</td>\n",
       "      <td>2002</td>\n",
       "      <td>N.L</td>\n",
       "      <td>NaN</td>\n",
       "    </tr>\n",
       "  </tbody>\n",
       "</table>\n",
       "</div>"
      ],
      "text/plain": [
       "   pop  year state    $\n",
       "0  1.5  2000  Chih  NaN\n",
       "1  1.6  2001  Chih  NaN\n",
       "2  3.3  2002  Chih  NaN\n",
       "3  1.5  2000   N.L  NaN\n",
       "4  1.6  2001   N.L  NaN\n",
       "5  3.3  2002   N.L  NaN"
      ]
     },
     "execution_count": 52,
     "metadata": {},
     "output_type": "execute_result"
    }
   ],
   "source": [
    " pd.DataFrame(data, columns=[\"pop\", \"year\", \"state\", \"$\"])"
   ]
  },
  {
   "cell_type": "markdown",
   "id": "b8f4ebd0",
   "metadata": {},
   "source": [
    "**Index Objects**\n",
    "\n",
    "Los objetos Index de pandas son responsables de contener las etiquetas de los ejes y otros metadatos.\n",
    "Los objetos de Index son inmutables y, por lo tanto, el usuario no puede modificarlos."
   ]
  },
  {
   "cell_type": "markdown",
   "id": "231a6700",
   "metadata": {},
   "source": [
    "## 6  Data Loading, Storage, and File Formats\n",
    "\n",
    "Obtener el acceso a los datos es uno de los primeros pasos en el proceso de un análisis de datos.\n",
    "\n",
    "**Reading and Writing Data in Text Format**\n",
    "\n",
    "**Indexing**: Puede tratar una o más columnas como el DataFrame devuelto y determinar si obtener los nombres de las columnas del archivo, los argumentos que proporciona o no obtenerlos.\n",
    "\n",
    "**Type inference and data conversion**: Incluye las conversiones de valores definidas por el usuario y una lista personalizada de marcadores de valores faltantes.\n",
    "\n",
    "**Date and time parsing**: Incluye una capacidad de combinación, incluida la combinación de información de fecha y hora distribuida en varias columnas en una sola columna en el resultado.\n",
    "\n",
    "**Iterating**: Soporte para iterar sobre fragmentos de archivos muy grandes.\n",
    "\n",
    "**Unclean data issues**: Incluye saltar filas o un pie de página, comentarios u otras cosas menores como datos numéricos con miles separados por comas.\n",
    "\n",
    "La documentación de pandas en línea tiene muchos ejemplos sobre cómo funciona cada uno de estos.\n",
    "En esto no necesariamente tiene que especificar qué columnas son numéricas, enteras, booleanas o de cadena. Otros formatos de datos, como HDF5, ORC y Parquet, tienen la información del tipo de datos incorporada en el formato.\n",
    "Aunque para manejar fechas y otros tipos personalizados se requiere de un esfuerzo adicional.\n",
    "Cuando se demilita por comas se utiliza odemos usar **pandas.read_csv** para leerlo en un DataFrame.\n",
    "\n",
    "**Reading Text Files in Pieces**\n",
    "\n",
    "Al procesar archivos muy grandes o descubrir el conjunto correcto de argumentos para procesar correctamente un archivo grande, es posible que desee leer solo una pequeña parte de un archivo o iterar a través de partes más pequeñas del archivo.\n",
    "Entonces hacemos que la configuración de visualización de pandas sea más compacta con \"**pd.options.display.max_rows**\"\n",
    "\n",
    "**Writing Data to Text Format**\n",
    "\n",
    "Usando *to_csv* el método de DataFrame, podemos escribir los datos en un archivo separado por comas.\n",
    "\n",
    "**Working with Other Delimited Formats**\n",
    "\n",
    "Para cualquier archivo con un delimitador de un solo carácter, puede utilizar el módulo integrado de Python **csv.**, para usarlo, pase cualquier archivo abierto u objeto similar a un archivo a el **csv.reader**. Los archivos CSV vienen en muchos formatos diferentes. \n",
    "\n",
    "**JSON Data**\n",
    "\n",
    "(JavaScript Object Notation) Es un formato estándar para enviar datos mediante solicitud HTTP entre navegadores web y otras aplicaciones. Es un formato de datos mucho más libre que un formato de texto tabular como el *CSV*.\n",
    "\n"
   ]
  },
  {
   "cell_type": "code",
   "execution_count": 110,
   "id": "aca29a6c",
   "metadata": {},
   "outputs": [],
   "source": [
    "obj = \"\"\"\n",
    "{\"name\": \"Pepe\",\n",
    " \"cities_lived\": [\"California\", \"Texas\", \"New York\", \"San Francisco\"],\n",
    " \"pet\": null,\n",
    " \"siblings\": [{\"name\": \"Jose\", \"age\": 24, \"hobbies\": [\"drive\", \"soccer\"]},\n",
    "              {\"name\": \"Alma\", \"age\": 22, \"hobbies\": [\"dance\", \"art\"]}]\n",
    "}\n",
    "\"\"\""
   ]
  },
  {
   "cell_type": "markdown",
   "id": "235497a7",
   "metadata": {},
   "source": [
    "Para convertir una cadena *JSON* al formato Python, se utiliza \"**json.loads**\" "
   ]
  },
  {
   "cell_type": "code",
   "execution_count": 111,
   "id": "7693b38e",
   "metadata": {},
   "outputs": [],
   "source": [
    "import json"
   ]
  },
  {
   "cell_type": "code",
   "execution_count": 104,
   "id": "7b0b97db",
   "metadata": {},
   "outputs": [],
   "source": [
    "result = json.loads(obj)"
   ]
  },
  {
   "cell_type": "code",
   "execution_count": 105,
   "id": "b7410a71",
   "metadata": {},
   "outputs": [
    {
     "data": {
      "text/plain": [
       "{'name': 'Pepe',\n",
       " 'cities_lived': ['California', 'Texas', 'New York', 'San Francisco'],\n",
       " 'pet': None,\n",
       " 'siblings': [{'name': 'Jose', 'age': 24, 'hobbies': ['drive', 'soccer']},\n",
       "  {'name': 'Alma', 'age': 22, 'hobbies': ['dance', 'art']}]}"
      ]
     },
     "execution_count": 105,
     "metadata": {},
     "output_type": "execute_result"
    }
   ],
   "source": [
    "result"
   ]
  },
  {
   "cell_type": "markdown",
   "id": "303b4131",
   "metadata": {},
   "source": [
    "\"**son.dumps**\" sirve para convier un objeto Python a *JSON*"
   ]
  },
  {
   "cell_type": "code",
   "execution_count": 106,
   "id": "0e525a47",
   "metadata": {},
   "outputs": [],
   "source": [
    " asjson = json.dumps(result)\n"
   ]
  },
  {
   "cell_type": "code",
   "execution_count": 107,
   "id": "5186e7b9",
   "metadata": {},
   "outputs": [
    {
     "data": {
      "text/plain": [
       "'{\"name\": \"Pepe\", \"cities_lived\": [\"California\", \"Texas\", \"New York\", \"San Francisco\"], \"pet\": null, \"siblings\": [{\"name\": \"Jose\", \"age\": 24, \"hobbies\": [\"drive\", \"soccer\"]}, {\"name\": \"Alma\", \"age\": 22, \"hobbies\": [\"dance\", \"art\"]}]}'"
      ]
     },
     "execution_count": 107,
     "metadata": {},
     "output_type": "execute_result"
    }
   ],
   "source": [
    " asjson"
   ]
  },
  {
   "cell_type": "markdown",
   "id": "0f02991c",
   "metadata": {},
   "source": [
    "Se puede pasar una lista de diccionarios (los que eran objetos JSON) al constructor DataFrame y seleccionar un subconjunto de los campos de datos."
   ]
  },
  {
   "cell_type": "code",
   "execution_count": 108,
   "id": "cd607ee6",
   "metadata": {},
   "outputs": [],
   "source": [
    " siblings = pd.DataFrame(result[\"siblings\"], columns=[\"name\", \"age\"])"
   ]
  },
  {
   "cell_type": "code",
   "execution_count": 109,
   "id": "bde48276",
   "metadata": {},
   "outputs": [
    {
     "data": {
      "text/html": [
       "<div>\n",
       "<style scoped>\n",
       "    .dataframe tbody tr th:only-of-type {\n",
       "        vertical-align: middle;\n",
       "    }\n",
       "\n",
       "    .dataframe tbody tr th {\n",
       "        vertical-align: top;\n",
       "    }\n",
       "\n",
       "    .dataframe thead th {\n",
       "        text-align: right;\n",
       "    }\n",
       "</style>\n",
       "<table border=\"1\" class=\"dataframe\">\n",
       "  <thead>\n",
       "    <tr style=\"text-align: right;\">\n",
       "      <th></th>\n",
       "      <th>name</th>\n",
       "      <th>age</th>\n",
       "    </tr>\n",
       "  </thead>\n",
       "  <tbody>\n",
       "    <tr>\n",
       "      <th>0</th>\n",
       "      <td>Jose</td>\n",
       "      <td>24</td>\n",
       "    </tr>\n",
       "    <tr>\n",
       "      <th>1</th>\n",
       "      <td>Alma</td>\n",
       "      <td>22</td>\n",
       "    </tr>\n",
       "  </tbody>\n",
       "</table>\n",
       "</div>"
      ],
      "text/plain": [
       "   name  age\n",
       "0  Jose   24\n",
       "1  Alma   22"
      ]
     },
     "execution_count": 109,
     "metadata": {},
     "output_type": "execute_result"
    }
   ],
   "source": [
    " siblings\n"
   ]
  },
  {
   "cell_type": "markdown",
   "id": "187eca97",
   "metadata": {},
   "source": [
    "El **\"pandas.read_json\"** puede convertir automáticamente conjuntos de datos JSON en disposiciones específicas en un marco de datos o una serie."
   ]
  },
  {
   "cell_type": "markdown",
   "id": "bcb4a416",
   "metadata": {},
   "source": [
    "**XML and HTML: Web Scraping**\n",
    "\n",
    "Python tiene muchas bibliotecas para leer y escribir datos en los omnipresentes formatos HTML y XML.\n",
    "Pandas tiene una función incorporada, **pandas.read_html** que sirve para analizar automáticamente tablas de archivos HTML como objetos DataFrame.\n",
    "\n",
    "**Binary Data Formats**\n",
    "\n",
    "Una forma sencilla de almacenar datos en formato binario es utilizar el módulo integrado de Python. Todos los objetos pandas tienen un **to_pickle** que escribe los datos en el disco en formato pickle. Los archivos Pickle, en general, solo se pueden leer en Python. Aunque pickle se recomienda sólo como formato de almacenamiento a corto plazo.\n",
    "\n",
    "**Reading Microsoft Excel Files**\n",
    "\n",
    "Pandas permite la lectura de datos tabulares almacenados en archivos de Excel utilizando **\"pandas.ExcelFile\"** o **\"pandas.read_excell\"**. Estos utilizan los paquetes complementarios *xlrd* y *openpyxl*, leen archivos *XLS* antiguos y *XLSX* más nuevos, respectivamente. Estos deben instalarse por separado de los pandas usando *pip* o *conda*\n",
    "\n",
    "Para poder usar **\"pandas.ExcelFile\"** se crea una instancia pasando una ruta a un archivo *xls* o *xlsx*\n",
    "\n",
    "**Interacting with Web APIs**\n",
    "\n",
    "Muchos sitios web contienen *API* públicas que proporcionan fuentes de datos a través de *JSON* o algún otro formato. Existen viarias maneras de acceder a estas *API* a traves de *Python*, una manera común o mas adecuada es la de el paquete \"**requests**\", que se puede instalar con \"pip\" o \"conda\".\n",
    "Se pueden llegar a crear algunas interfaces de nivel superior para API web que devuelven objetos DataFrame para un análisis más eficiente.\n",
    "\n",
    "**Interacting with Databases**\n",
    "\n",
    "Pandas contiene algunas funciones para simplificar la carga de los resultados de una consulta **SQL** en un *DataFrame*.\n",
    "Se puede utilizar una base de datos **\"SQLite3\"** usando el *sqlite3* integrado en Python.\n",
    "La mayoría de los controladores Python SQL devuelven una lista de tuples al seleccionar datos de una tabla, se puede pasar la lista de tuples al constructor *DataFrame*, pero se necesitan los nombres de las columnas, contenidos en el *description* del cursor. Pero el proyecto **\"SQLAlchemy\"** es un kit de herramientas Python SQL que abstrae muchas de las diferencias comunes entre las bases de datos SQL. Entonces en Pandas se tiene una función *read_sql* que permite leer datos fácilmente desde una conexión de *SQLAlchemy*."
   ]
  },
  {
   "cell_type": "markdown",
   "id": "86c7d32a",
   "metadata": {},
   "source": [
    "## 7 Data Cleaning and Preparation\n",
    "\n",
    "Durante el análisis y modelado de datos, la preparación de los datos consume una parte significativa del tiempo de un analista. A veces, los datos almacenados en archivos o bases de datos no tienen el formato adecuado para una tarea específica. Por lo tanto, se suele recurrir al procesamiento *ad hoc* de datos utilizando lenguajes de programación como *Python, Perl, R, Java* o herramientas de procesamiento de texto *Unix* como **sed** o **awk**. Pero pandas, junto con las funciones integradas de Python, ofrece un conjunto rápido, flexible y de alto nivel de herramientas para manipular datos de manera efectiva.\n",
    "Preparar los datos de manera efectiva puede aumentar considerablemente la eficiencia, ya que te permite invertir más tiempo en analizar la información y menos en su preparación para el análisis.\n"
   ]
  },
  {
   "cell_type": "markdown",
   "id": "e66a1549",
   "metadata": {},
   "source": [
    "**Handling Missing Data**\n",
    "\n",
    "Los datos faltantes son comunes en muchas aplicaciones de análisis de datos. Pandas se enfoca en simplificar el trabajo con datos faltantes, excluyéndolos de manera predeterminada en las estadísticas descriptivas. \n",
    "\n",
    "Para datos con *\"float64\"* *dtype*, pandas utiliza el valor de punto flotante **NaN** para representar los datos faltantes."
   ]
  },
  {
   "cell_type": "code",
   "execution_count": 116,
   "id": "9111c998",
   "metadata": {},
   "outputs": [],
   "source": [
    "float_data = pd.Series([1, 3, np.nan, 0])\n"
   ]
  },
  {
   "cell_type": "code",
   "execution_count": 117,
   "id": "51a84452",
   "metadata": {},
   "outputs": [
    {
     "data": {
      "text/plain": [
       "0    1.0\n",
       "1    3.0\n",
       "2    NaN\n",
       "3    0.0\n",
       "dtype: float64"
      ]
     },
     "execution_count": 117,
     "metadata": {},
     "output_type": "execute_result"
    }
   ],
   "source": [
    "float_data"
   ]
  },
  {
   "cell_type": "markdown",
   "id": "8822d0bf",
   "metadata": {},
   "source": [
    "El metodo de **\"isna\"** nos da una serie *boolean* donde *\"True\"* son los valores nulos."
   ]
  },
  {
   "cell_type": "code",
   "execution_count": 119,
   "id": "b31816d2",
   "metadata": {},
   "outputs": [
    {
     "data": {
      "text/plain": [
       "0    False\n",
       "1    False\n",
       "2     True\n",
       "3    False\n",
       "dtype: bool"
      ]
     },
     "execution_count": 119,
     "metadata": {},
     "output_type": "execute_result"
    }
   ],
   "source": [
    "float_data.isna()"
   ]
  },
  {
   "cell_type": "markdown",
   "id": "b24ed5f9",
   "metadata": {},
   "source": [
    "En pandas, se sigue la convención de R al referirse a los datos faltantes como **\"NA\"** (not available). Los datos *\"NA\"* pueden indicar la ausencia de datos o la existencia de datos no observados debido a problemas en la recopilación de datos. Al limpiar datos para el análisis, a menudo es importante realizar un análisis de los datos faltantes para identificar problemas de recopilación de datos o posibles sesgos en los datos causados por los datos faltantes. \n",
    "El *\"None\"* es interpretado como *\"NA\"* tambien"
   ]
  },
  {
   "cell_type": "code",
   "execution_count": 122,
   "id": "38b18b1f",
   "metadata": {},
   "outputs": [],
   "source": [
    " string_data = pd.Series([\"frijol\", np.nan, None, \"manzana\"])"
   ]
  },
  {
   "cell_type": "code",
   "execution_count": 124,
   "id": "69838e84",
   "metadata": {},
   "outputs": [
    {
     "data": {
      "text/plain": [
       "0     frijol\n",
       "1        NaN\n",
       "2       None\n",
       "3    manzana\n",
       "dtype: object"
      ]
     },
     "execution_count": 124,
     "metadata": {},
     "output_type": "execute_result"
    }
   ],
   "source": [
    " string_data"
   ]
  },
  {
   "cell_type": "code",
   "execution_count": 125,
   "id": "8aefe2ea",
   "metadata": {},
   "outputs": [
    {
     "data": {
      "text/plain": [
       "0    False\n",
       "1     True\n",
       "2     True\n",
       "3    False\n",
       "dtype: bool"
      ]
     },
     "execution_count": 125,
     "metadata": {},
     "output_type": "execute_result"
    }
   ],
   "source": [
    " string_data.isna()"
   ]
  },
  {
   "cell_type": "code",
   "execution_count": 126,
   "id": "95c93c84",
   "metadata": {},
   "outputs": [],
   "source": [
    " float_data = pd.Series([1, 2, None], dtype='float64')"
   ]
  },
  {
   "cell_type": "code",
   "execution_count": 127,
   "id": "8f1cdc35",
   "metadata": {},
   "outputs": [
    {
     "data": {
      "text/plain": [
       "0    1.0\n",
       "1    2.0\n",
       "2    NaN\n",
       "dtype: float64"
      ]
     },
     "execution_count": 127,
     "metadata": {},
     "output_type": "execute_result"
    }
   ],
   "source": [
    " float_data"
   ]
  },
  {
   "cell_type": "code",
   "execution_count": 128,
   "id": "9edad473",
   "metadata": {},
   "outputs": [
    {
     "data": {
      "text/plain": [
       "0    False\n",
       "1    False\n",
       "2     True\n",
       "dtype: bool"
      ]
     },
     "execution_count": 128,
     "metadata": {},
     "output_type": "execute_result"
    }
   ],
   "source": [
    " float_data.isna()"
   ]
  },
  {
   "cell_type": "markdown",
   "id": "87b664a1",
   "metadata": {},
   "source": [
    "**Filtering Out Missing Data**\n",
    "\n",
    "Hay diversas formas de filtrar los datos faltantes. Aunque esta la opción de hacerlo utilizando **\"pandas.isna\"**, el *\"dropna\"* puede ser útil. En una Serie, devuelve la Serie con solo los datos no nulos y los valores de index."
   ]
  },
  {
   "cell_type": "code",
   "execution_count": 131,
   "id": "b19487ef",
   "metadata": {},
   "outputs": [],
   "source": [
    " data = pd.Series([1, np.nan, 3.5, np.nan, 7])"
   ]
  },
  {
   "cell_type": "code",
   "execution_count": 132,
   "id": "da4cd804",
   "metadata": {},
   "outputs": [
    {
     "data": {
      "text/plain": [
       "0    1.0\n",
       "2    3.5\n",
       "4    7.0\n",
       "dtype: float64"
      ]
     },
     "execution_count": 132,
     "metadata": {},
     "output_type": "execute_result"
    }
   ],
   "source": [
    " data.dropna()"
   ]
  },
  {
   "cell_type": "markdown",
   "id": "9a9df67f",
   "metadata": {},
   "source": [
    "Pero también es lo mismo que hacer esto:"
   ]
  },
  {
   "cell_type": "code",
   "execution_count": 133,
   "id": "09bd5ecd",
   "metadata": {},
   "outputs": [
    {
     "data": {
      "text/plain": [
       "0    1.0\n",
       "2    3.5\n",
       "4    7.0\n",
       "dtype: float64"
      ]
     },
     "execution_count": 133,
     "metadata": {},
     "output_type": "execute_result"
    }
   ],
   "source": [
    " data[data.notna()]"
   ]
  },
  {
   "cell_type": "markdown",
   "id": "c18d8f90",
   "metadata": {},
   "source": [
    "Hay varias maneras de quitar datos que faltan. Puedes eliminar filas o columnas que estén completamente vacías, o solo las que tengan algún valor faltante. Por defecto, la función **dropna** elimina las filas que tengan al menos un valor faltante."
   ]
  },
  {
   "cell_type": "code",
   "execution_count": 138,
   "id": "78ff7daf",
   "metadata": {},
   "outputs": [],
   "source": [
    " data = pd.DataFrame([[1., 1.5, 2.], [1., np.nan, np.nan],\n",
    "   ....:                      [np.nan, np.nan, np.nan], [np.nan, 1.5, 2.]])"
   ]
  },
  {
   "cell_type": "code",
   "execution_count": 139,
   "id": "7ec7e030",
   "metadata": {},
   "outputs": [
    {
     "data": {
      "text/html": [
       "<div>\n",
       "<style scoped>\n",
       "    .dataframe tbody tr th:only-of-type {\n",
       "        vertical-align: middle;\n",
       "    }\n",
       "\n",
       "    .dataframe tbody tr th {\n",
       "        vertical-align: top;\n",
       "    }\n",
       "\n",
       "    .dataframe thead th {\n",
       "        text-align: right;\n",
       "    }\n",
       "</style>\n",
       "<table border=\"1\" class=\"dataframe\">\n",
       "  <thead>\n",
       "    <tr style=\"text-align: right;\">\n",
       "      <th></th>\n",
       "      <th>0</th>\n",
       "      <th>1</th>\n",
       "      <th>2</th>\n",
       "    </tr>\n",
       "  </thead>\n",
       "  <tbody>\n",
       "    <tr>\n",
       "      <th>0</th>\n",
       "      <td>1.0</td>\n",
       "      <td>1.5</td>\n",
       "      <td>2.0</td>\n",
       "    </tr>\n",
       "    <tr>\n",
       "      <th>1</th>\n",
       "      <td>1.0</td>\n",
       "      <td>NaN</td>\n",
       "      <td>NaN</td>\n",
       "    </tr>\n",
       "    <tr>\n",
       "      <th>2</th>\n",
       "      <td>NaN</td>\n",
       "      <td>NaN</td>\n",
       "      <td>NaN</td>\n",
       "    </tr>\n",
       "    <tr>\n",
       "      <th>3</th>\n",
       "      <td>NaN</td>\n",
       "      <td>1.5</td>\n",
       "      <td>2.0</td>\n",
       "    </tr>\n",
       "  </tbody>\n",
       "</table>\n",
       "</div>"
      ],
      "text/plain": [
       "     0    1    2\n",
       "0  1.0  1.5  2.0\n",
       "1  1.0  NaN  NaN\n",
       "2  NaN  NaN  NaN\n",
       "3  NaN  1.5  2.0"
      ]
     },
     "execution_count": 139,
     "metadata": {},
     "output_type": "execute_result"
    }
   ],
   "source": [
    " data"
   ]
  },
  {
   "cell_type": "code",
   "execution_count": 140,
   "id": "556749ab",
   "metadata": {},
   "outputs": [
    {
     "data": {
      "text/html": [
       "<div>\n",
       "<style scoped>\n",
       "    .dataframe tbody tr th:only-of-type {\n",
       "        vertical-align: middle;\n",
       "    }\n",
       "\n",
       "    .dataframe tbody tr th {\n",
       "        vertical-align: top;\n",
       "    }\n",
       "\n",
       "    .dataframe thead th {\n",
       "        text-align: right;\n",
       "    }\n",
       "</style>\n",
       "<table border=\"1\" class=\"dataframe\">\n",
       "  <thead>\n",
       "    <tr style=\"text-align: right;\">\n",
       "      <th></th>\n",
       "      <th>0</th>\n",
       "      <th>1</th>\n",
       "      <th>2</th>\n",
       "    </tr>\n",
       "  </thead>\n",
       "  <tbody>\n",
       "    <tr>\n",
       "      <th>0</th>\n",
       "      <td>1.0</td>\n",
       "      <td>1.5</td>\n",
       "      <td>2.0</td>\n",
       "    </tr>\n",
       "  </tbody>\n",
       "</table>\n",
       "</div>"
      ],
      "text/plain": [
       "     0    1    2\n",
       "0  1.0  1.5  2.0"
      ]
     },
     "execution_count": 140,
     "metadata": {},
     "output_type": "execute_result"
    }
   ],
   "source": [
    "data.dropna()"
   ]
  },
  {
   "cell_type": "markdown",
   "id": "7def957e",
   "metadata": {},
   "source": [
    " Al utilizar **how=\"all\"** solo se eliminan las filas que sean completamente NA"
   ]
  },
  {
   "cell_type": "code",
   "execution_count": 141,
   "id": "8b25a9fe",
   "metadata": {},
   "outputs": [
    {
     "data": {
      "text/html": [
       "<div>\n",
       "<style scoped>\n",
       "    .dataframe tbody tr th:only-of-type {\n",
       "        vertical-align: middle;\n",
       "    }\n",
       "\n",
       "    .dataframe tbody tr th {\n",
       "        vertical-align: top;\n",
       "    }\n",
       "\n",
       "    .dataframe thead th {\n",
       "        text-align: right;\n",
       "    }\n",
       "</style>\n",
       "<table border=\"1\" class=\"dataframe\">\n",
       "  <thead>\n",
       "    <tr style=\"text-align: right;\">\n",
       "      <th></th>\n",
       "      <th>0</th>\n",
       "      <th>1</th>\n",
       "      <th>2</th>\n",
       "    </tr>\n",
       "  </thead>\n",
       "  <tbody>\n",
       "    <tr>\n",
       "      <th>0</th>\n",
       "      <td>1.0</td>\n",
       "      <td>1.5</td>\n",
       "      <td>2.0</td>\n",
       "    </tr>\n",
       "    <tr>\n",
       "      <th>1</th>\n",
       "      <td>1.0</td>\n",
       "      <td>NaN</td>\n",
       "      <td>NaN</td>\n",
       "    </tr>\n",
       "    <tr>\n",
       "      <th>3</th>\n",
       "      <td>NaN</td>\n",
       "      <td>1.5</td>\n",
       "      <td>2.0</td>\n",
       "    </tr>\n",
       "  </tbody>\n",
       "</table>\n",
       "</div>"
      ],
      "text/plain": [
       "     0    1    2\n",
       "0  1.0  1.5  2.0\n",
       "1  1.0  NaN  NaN\n",
       "3  NaN  1.5  2.0"
      ]
     },
     "execution_count": 141,
     "metadata": {},
     "output_type": "execute_result"
    }
   ],
   "source": [
    "  data.dropna(how=\"all\")"
   ]
  },
  {
   "cell_type": "markdown",
   "id": "8877dfc5",
   "metadata": {},
   "source": [
    "Para eliminar columnas de la misma manera, es **axis=\"columns\"**"
   ]
  },
  {
   "cell_type": "code",
   "execution_count": 142,
   "id": "5ef2ecc1",
   "metadata": {},
   "outputs": [],
   "source": [
    " data[4] = np.nan"
   ]
  },
  {
   "cell_type": "code",
   "execution_count": 143,
   "id": "cfb2c698",
   "metadata": {},
   "outputs": [
    {
     "data": {
      "text/html": [
       "<div>\n",
       "<style scoped>\n",
       "    .dataframe tbody tr th:only-of-type {\n",
       "        vertical-align: middle;\n",
       "    }\n",
       "\n",
       "    .dataframe tbody tr th {\n",
       "        vertical-align: top;\n",
       "    }\n",
       "\n",
       "    .dataframe thead th {\n",
       "        text-align: right;\n",
       "    }\n",
       "</style>\n",
       "<table border=\"1\" class=\"dataframe\">\n",
       "  <thead>\n",
       "    <tr style=\"text-align: right;\">\n",
       "      <th></th>\n",
       "      <th>0</th>\n",
       "      <th>1</th>\n",
       "      <th>2</th>\n",
       "      <th>4</th>\n",
       "    </tr>\n",
       "  </thead>\n",
       "  <tbody>\n",
       "    <tr>\n",
       "      <th>0</th>\n",
       "      <td>1.0</td>\n",
       "      <td>1.5</td>\n",
       "      <td>2.0</td>\n",
       "      <td>NaN</td>\n",
       "    </tr>\n",
       "    <tr>\n",
       "      <th>1</th>\n",
       "      <td>1.0</td>\n",
       "      <td>NaN</td>\n",
       "      <td>NaN</td>\n",
       "      <td>NaN</td>\n",
       "    </tr>\n",
       "    <tr>\n",
       "      <th>2</th>\n",
       "      <td>NaN</td>\n",
       "      <td>NaN</td>\n",
       "      <td>NaN</td>\n",
       "      <td>NaN</td>\n",
       "    </tr>\n",
       "    <tr>\n",
       "      <th>3</th>\n",
       "      <td>NaN</td>\n",
       "      <td>1.5</td>\n",
       "      <td>2.0</td>\n",
       "      <td>NaN</td>\n",
       "    </tr>\n",
       "  </tbody>\n",
       "</table>\n",
       "</div>"
      ],
      "text/plain": [
       "     0    1    2   4\n",
       "0  1.0  1.5  2.0 NaN\n",
       "1  1.0  NaN  NaN NaN\n",
       "2  NaN  NaN  NaN NaN\n",
       "3  NaN  1.5  2.0 NaN"
      ]
     },
     "execution_count": 143,
     "metadata": {},
     "output_type": "execute_result"
    }
   ],
   "source": [
    " data"
   ]
  },
  {
   "cell_type": "code",
   "execution_count": 144,
   "id": "f92e12fe",
   "metadata": {},
   "outputs": [
    {
     "data": {
      "text/html": [
       "<div>\n",
       "<style scoped>\n",
       "    .dataframe tbody tr th:only-of-type {\n",
       "        vertical-align: middle;\n",
       "    }\n",
       "\n",
       "    .dataframe tbody tr th {\n",
       "        vertical-align: top;\n",
       "    }\n",
       "\n",
       "    .dataframe thead th {\n",
       "        text-align: right;\n",
       "    }\n",
       "</style>\n",
       "<table border=\"1\" class=\"dataframe\">\n",
       "  <thead>\n",
       "    <tr style=\"text-align: right;\">\n",
       "      <th></th>\n",
       "      <th>0</th>\n",
       "      <th>1</th>\n",
       "      <th>2</th>\n",
       "    </tr>\n",
       "  </thead>\n",
       "  <tbody>\n",
       "    <tr>\n",
       "      <th>0</th>\n",
       "      <td>1.0</td>\n",
       "      <td>1.5</td>\n",
       "      <td>2.0</td>\n",
       "    </tr>\n",
       "    <tr>\n",
       "      <th>1</th>\n",
       "      <td>1.0</td>\n",
       "      <td>NaN</td>\n",
       "      <td>NaN</td>\n",
       "    </tr>\n",
       "    <tr>\n",
       "      <th>2</th>\n",
       "      <td>NaN</td>\n",
       "      <td>NaN</td>\n",
       "      <td>NaN</td>\n",
       "    </tr>\n",
       "    <tr>\n",
       "      <th>3</th>\n",
       "      <td>NaN</td>\n",
       "      <td>1.5</td>\n",
       "      <td>2.0</td>\n",
       "    </tr>\n",
       "  </tbody>\n",
       "</table>\n",
       "</div>"
      ],
      "text/plain": [
       "     0    1    2\n",
       "0  1.0  1.5  2.0\n",
       "1  1.0  NaN  NaN\n",
       "2  NaN  NaN  NaN\n",
       "3  NaN  1.5  2.0"
      ]
     },
     "execution_count": 144,
     "metadata": {},
     "output_type": "execute_result"
    }
   ],
   "source": [
    " data.dropna(axis=\"columns\", how=\"all\")"
   ]
  },
  {
   "cell_type": "markdown",
   "id": "bcc2ce5e",
   "metadata": {},
   "source": [
    "**Data Transformation**\n",
    " \n",
    "**Removing Duplicates**\n",
    "\n",
    "El método DataFrame **duplicated** devuelve una serie boolean que indica si cada fila es duplicada (los valores de sus columnas son exactamente iguales a los de una fila anterior) o no."
   ]
  },
  {
   "cell_type": "code",
   "execution_count": 145,
   "id": "c552b4cb",
   "metadata": {},
   "outputs": [],
   "source": [
    " data = pd.DataFrame({\"a1\": [\"one\", \"two\"] * 3 + [\"two\"],\n",
    "   ....:                      \"a2\": [1, 1, 2, 3, 3, 4, 4]})"
   ]
  },
  {
   "cell_type": "code",
   "execution_count": 146,
   "id": "4e6bea73",
   "metadata": {},
   "outputs": [
    {
     "data": {
      "text/html": [
       "<div>\n",
       "<style scoped>\n",
       "    .dataframe tbody tr th:only-of-type {\n",
       "        vertical-align: middle;\n",
       "    }\n",
       "\n",
       "    .dataframe tbody tr th {\n",
       "        vertical-align: top;\n",
       "    }\n",
       "\n",
       "    .dataframe thead th {\n",
       "        text-align: right;\n",
       "    }\n",
       "</style>\n",
       "<table border=\"1\" class=\"dataframe\">\n",
       "  <thead>\n",
       "    <tr style=\"text-align: right;\">\n",
       "      <th></th>\n",
       "      <th>a1</th>\n",
       "      <th>a2</th>\n",
       "    </tr>\n",
       "  </thead>\n",
       "  <tbody>\n",
       "    <tr>\n",
       "      <th>0</th>\n",
       "      <td>one</td>\n",
       "      <td>1</td>\n",
       "    </tr>\n",
       "    <tr>\n",
       "      <th>1</th>\n",
       "      <td>two</td>\n",
       "      <td>1</td>\n",
       "    </tr>\n",
       "    <tr>\n",
       "      <th>2</th>\n",
       "      <td>one</td>\n",
       "      <td>2</td>\n",
       "    </tr>\n",
       "    <tr>\n",
       "      <th>3</th>\n",
       "      <td>two</td>\n",
       "      <td>3</td>\n",
       "    </tr>\n",
       "    <tr>\n",
       "      <th>4</th>\n",
       "      <td>one</td>\n",
       "      <td>3</td>\n",
       "    </tr>\n",
       "    <tr>\n",
       "      <th>5</th>\n",
       "      <td>two</td>\n",
       "      <td>4</td>\n",
       "    </tr>\n",
       "    <tr>\n",
       "      <th>6</th>\n",
       "      <td>two</td>\n",
       "      <td>4</td>\n",
       "    </tr>\n",
       "  </tbody>\n",
       "</table>\n",
       "</div>"
      ],
      "text/plain": [
       "    a1  a2\n",
       "0  one   1\n",
       "1  two   1\n",
       "2  one   2\n",
       "3  two   3\n",
       "4  one   3\n",
       "5  two   4\n",
       "6  two   4"
      ]
     },
     "execution_count": 146,
     "metadata": {},
     "output_type": "execute_result"
    }
   ],
   "source": [
    " data"
   ]
  },
  {
   "cell_type": "code",
   "execution_count": 147,
   "id": "07fe7a65",
   "metadata": {},
   "outputs": [
    {
     "data": {
      "text/plain": [
       "0    False\n",
       "1    False\n",
       "2    False\n",
       "3    False\n",
       "4    False\n",
       "5    False\n",
       "6     True\n",
       "dtype: bool"
      ]
     },
     "execution_count": 147,
     "metadata": {},
     "output_type": "execute_result"
    }
   ],
   "source": [
    " data.duplicated()"
   ]
  },
  {
   "cell_type": "markdown",
   "id": "940bd2fb",
   "metadata": {},
   "source": [
    "**Transforming Data Using a Function or Mapping**\n",
    "\n",
    "Puede ser posible que se desee realizar alguna transformación basada en los valores de una matriz, serie o columna en un marco de datos.\n",
    "Entonces:"
   ]
  },
  {
   "cell_type": "code",
   "execution_count": 150,
   "id": "400a8f94",
   "metadata": {},
   "outputs": [],
   "source": [
    " data = pd.DataFrame({\"food\": [\"bacon\", \"ribeye\", \"bacon\",\n",
    "   ....:                               \"egg\", \"cookies\", \"bacon\",\n",
    "   ....:                               \"egg\", \"burger\", \"tacos\"],\n",
    "   ....:                      \"ounces\": [2, 3, 4, 5, 6.5, 7, 8, 9, 9]})\n"
   ]
  },
  {
   "cell_type": "code",
   "execution_count": 151,
   "id": "6bd5dfa2",
   "metadata": {},
   "outputs": [
    {
     "data": {
      "text/html": [
       "<div>\n",
       "<style scoped>\n",
       "    .dataframe tbody tr th:only-of-type {\n",
       "        vertical-align: middle;\n",
       "    }\n",
       "\n",
       "    .dataframe tbody tr th {\n",
       "        vertical-align: top;\n",
       "    }\n",
       "\n",
       "    .dataframe thead th {\n",
       "        text-align: right;\n",
       "    }\n",
       "</style>\n",
       "<table border=\"1\" class=\"dataframe\">\n",
       "  <thead>\n",
       "    <tr style=\"text-align: right;\">\n",
       "      <th></th>\n",
       "      <th>food</th>\n",
       "      <th>ounces</th>\n",
       "    </tr>\n",
       "  </thead>\n",
       "  <tbody>\n",
       "    <tr>\n",
       "      <th>0</th>\n",
       "      <td>bacon</td>\n",
       "      <td>2.0</td>\n",
       "    </tr>\n",
       "    <tr>\n",
       "      <th>1</th>\n",
       "      <td>ribeye</td>\n",
       "      <td>3.0</td>\n",
       "    </tr>\n",
       "    <tr>\n",
       "      <th>2</th>\n",
       "      <td>bacon</td>\n",
       "      <td>4.0</td>\n",
       "    </tr>\n",
       "    <tr>\n",
       "      <th>3</th>\n",
       "      <td>egg</td>\n",
       "      <td>5.0</td>\n",
       "    </tr>\n",
       "    <tr>\n",
       "      <th>4</th>\n",
       "      <td>cookies</td>\n",
       "      <td>6.5</td>\n",
       "    </tr>\n",
       "    <tr>\n",
       "      <th>5</th>\n",
       "      <td>bacon</td>\n",
       "      <td>7.0</td>\n",
       "    </tr>\n",
       "    <tr>\n",
       "      <th>6</th>\n",
       "      <td>egg</td>\n",
       "      <td>8.0</td>\n",
       "    </tr>\n",
       "    <tr>\n",
       "      <th>7</th>\n",
       "      <td>burger</td>\n",
       "      <td>9.0</td>\n",
       "    </tr>\n",
       "    <tr>\n",
       "      <th>8</th>\n",
       "      <td>tacos</td>\n",
       "      <td>9.0</td>\n",
       "    </tr>\n",
       "  </tbody>\n",
       "</table>\n",
       "</div>"
      ],
      "text/plain": [
       "      food  ounces\n",
       "0    bacon     2.0\n",
       "1   ribeye     3.0\n",
       "2    bacon     4.0\n",
       "3      egg     5.0\n",
       "4  cookies     6.5\n",
       "5    bacon     7.0\n",
       "6      egg     8.0\n",
       "7   burger     9.0\n",
       "8    tacos     9.0"
      ]
     },
     "execution_count": 151,
     "metadata": {},
     "output_type": "execute_result"
    }
   ],
   "source": [
    " data"
   ]
  },
  {
   "cell_type": "markdown",
   "id": "04734a46",
   "metadata": {},
   "source": [
    " Entones supongamos que queremos agregar una columna donde se indique de donde proviene cada alimento: "
   ]
  },
  {
   "cell_type": "code",
   "execution_count": 152,
   "id": "21c5a2ee",
   "metadata": {},
   "outputs": [],
   "source": [
    "origin = {\n",
    "  \"bacon\": \"pig\",\n",
    "  \"ribeye\": \"cow\",\n",
    "  \"egg\": \"chicken\",\n",
    "  \"cookies\": \"flour\",\n",
    "  \"burger\": \"cow\",\n",
    "  \"tacos\": \"tortilla\"\n",
    "}"
   ]
  },
  {
   "cell_type": "markdown",
   "id": "94606d44",
   "metadata": {},
   "source": [
    "El metodo de **map** en una Serie acepta una función u objeto similar a un diccionario que contiene un mapeo para realizar la transformación de valores."
   ]
  },
  {
   "cell_type": "code",
   "execution_count": 153,
   "id": "fe6441ac",
   "metadata": {},
   "outputs": [],
   "source": [
    "  data[\"origin\"] = data[\"food\"].map(origin)"
   ]
  },
  {
   "cell_type": "code",
   "execution_count": 154,
   "id": "fecf898b",
   "metadata": {},
   "outputs": [
    {
     "data": {
      "text/html": [
       "<div>\n",
       "<style scoped>\n",
       "    .dataframe tbody tr th:only-of-type {\n",
       "        vertical-align: middle;\n",
       "    }\n",
       "\n",
       "    .dataframe tbody tr th {\n",
       "        vertical-align: top;\n",
       "    }\n",
       "\n",
       "    .dataframe thead th {\n",
       "        text-align: right;\n",
       "    }\n",
       "</style>\n",
       "<table border=\"1\" class=\"dataframe\">\n",
       "  <thead>\n",
       "    <tr style=\"text-align: right;\">\n",
       "      <th></th>\n",
       "      <th>food</th>\n",
       "      <th>ounces</th>\n",
       "      <th>origin</th>\n",
       "    </tr>\n",
       "  </thead>\n",
       "  <tbody>\n",
       "    <tr>\n",
       "      <th>0</th>\n",
       "      <td>bacon</td>\n",
       "      <td>2.0</td>\n",
       "      <td>pig</td>\n",
       "    </tr>\n",
       "    <tr>\n",
       "      <th>1</th>\n",
       "      <td>ribeye</td>\n",
       "      <td>3.0</td>\n",
       "      <td>cow</td>\n",
       "    </tr>\n",
       "    <tr>\n",
       "      <th>2</th>\n",
       "      <td>bacon</td>\n",
       "      <td>4.0</td>\n",
       "      <td>pig</td>\n",
       "    </tr>\n",
       "    <tr>\n",
       "      <th>3</th>\n",
       "      <td>egg</td>\n",
       "      <td>5.0</td>\n",
       "      <td>chicken</td>\n",
       "    </tr>\n",
       "    <tr>\n",
       "      <th>4</th>\n",
       "      <td>cookies</td>\n",
       "      <td>6.5</td>\n",
       "      <td>flour</td>\n",
       "    </tr>\n",
       "    <tr>\n",
       "      <th>5</th>\n",
       "      <td>bacon</td>\n",
       "      <td>7.0</td>\n",
       "      <td>pig</td>\n",
       "    </tr>\n",
       "    <tr>\n",
       "      <th>6</th>\n",
       "      <td>egg</td>\n",
       "      <td>8.0</td>\n",
       "      <td>chicken</td>\n",
       "    </tr>\n",
       "    <tr>\n",
       "      <th>7</th>\n",
       "      <td>burger</td>\n",
       "      <td>9.0</td>\n",
       "      <td>cow</td>\n",
       "    </tr>\n",
       "    <tr>\n",
       "      <th>8</th>\n",
       "      <td>tacos</td>\n",
       "      <td>9.0</td>\n",
       "      <td>tortilla</td>\n",
       "    </tr>\n",
       "  </tbody>\n",
       "</table>\n",
       "</div>"
      ],
      "text/plain": [
       "      food  ounces    origin\n",
       "0    bacon     2.0       pig\n",
       "1   ribeye     3.0       cow\n",
       "2    bacon     4.0       pig\n",
       "3      egg     5.0   chicken\n",
       "4  cookies     6.5     flour\n",
       "5    bacon     7.0       pig\n",
       "6      egg     8.0   chicken\n",
       "7   burger     9.0       cow\n",
       "8    tacos     9.0  tortilla"
      ]
     },
     "execution_count": 154,
     "metadata": {},
     "output_type": "execute_result"
    }
   ],
   "source": [
    " data"
   ]
  },
  {
   "cell_type": "markdown",
   "id": "9b47f478",
   "metadata": {},
   "source": [
    "El uso **map** es una forma conveniente de realizar transformaciones de elementos y otras operaciones relacionadas con la limpieza de datos."
   ]
  },
  {
   "cell_type": "markdown",
   "id": "4f2ee2ac",
   "metadata": {},
   "source": [
    "**Extension Data Types**\n",
    "\n",
    "Pandas se basó originalmente en NumPy, una biblioteca para trabajar con datos numéricos. Utilizó las capacidades de NumPy para implementar conceptos como datos faltantes. Sin embargo, hubo limitaciones al usar NumPy como:\n",
    "\n",
    "NumPy no manejaba adecuadamente datos faltantes para tipos como enteros y booleanos, lo que obligaba a pandas a convertirlos a **float64** y usar **np.nan** para representar valores nulos, lo que causaba problemas en algoritmos de pandas.\n",
    "\n",
    "El procesamiento de conjuntos de datos con muchas cadenas era computacionalmente costoso y requería mucha memoria.\n",
    "\n",
    "Tipos de datos como intervalos de tiempo y marcas de tiempo con zonas horarias no eran eficientemente compatibles sin usar matrices de objetos Python, lo que era costoso computacionalmente.\n",
    "\n",
    "\n",
    "\n"
   ]
  },
  {
   "cell_type": "markdown",
   "id": "75bf6f9e",
   "metadata": {},
   "source": [
    "Pandas desarrollo un sistema de tipos de extensión que permite agregar nuevos tipos de datos incluso si NumPy no los admite de forma nativa. Estos nuevos tipos de datos se pueden tratar como de primera clase junto con los datos provenientes de matrices NumPy.\n",
    "\n",
    "**String Manipulation**\n",
    "\n",
    "Python ha sido muy popular para trabajar con datos en bruto, en parte debido a lo fácil que es manipular cadenas y texto. Python ofrece métodos integrados que simplifican muchas operaciones relacionadas con el texto. Sin embargo, para tareas más complejas como encontrar patrones específicos o manipulaciones más detalladas del texto, a menudo se recurre a expresiones regulares.\n",
    "\n",
    "Pandas, por su parte, amplía las capacidades al permitirte aplicar operaciones de texto y expresiones regulares de manera eficiente a conjuntos completos de datos. Además, ofrece facilidades para manejar datos faltantes, lo que simplifica el proceso de manipulación y análisis de datos en Python.\n",
    "\n",
    "**Python Built-In String Object Methods**\n",
    "\n",
    "En muchas apps de *scripting* y manipulación de cadenas, los métodos de cadenas integrados son suficientes. Por ejemplo una cadena separada por comas se puede dividir en pedazos con **\"split\"** "
   ]
  },
  {
   "cell_type": "code",
   "execution_count": 157,
   "id": "c0ea9459",
   "metadata": {},
   "outputs": [],
   "source": [
    " val = \"a,b,  Hello\""
   ]
  },
  {
   "cell_type": "code",
   "execution_count": 158,
   "id": "588b1445",
   "metadata": {},
   "outputs": [
    {
     "data": {
      "text/plain": [
       "['a', 'b', '  Hello']"
      ]
     },
     "execution_count": 158,
     "metadata": {},
     "output_type": "execute_result"
    }
   ],
   "source": [
    " val.split(\",\")"
   ]
  },
  {
   "cell_type": "markdown",
   "id": "7bba3788",
   "metadata": {},
   "source": [
    "**split** suele combinarse con **strip** para recortar espacios en blanco (incluidos los saltos de línea)"
   ]
  },
  {
   "cell_type": "code",
   "execution_count": 159,
   "id": "2a89f9e7",
   "metadata": {},
   "outputs": [],
   "source": [
    " pieces = [x.strip() for x in val.split(\",\")]"
   ]
  },
  {
   "cell_type": "code",
   "execution_count": 160,
   "id": "642eb81b",
   "metadata": {},
   "outputs": [
    {
     "data": {
      "text/plain": [
       "['a', 'b', 'Hello']"
      ]
     },
     "execution_count": 160,
     "metadata": {},
     "output_type": "execute_result"
    }
   ],
   "source": [
    " pieces"
   ]
  },
  {
   "cell_type": "markdown",
   "id": "6df15df4",
   "metadata": {},
   "source": [
    "Una forma rápida es pasar una lista o tupla al metodo de **join** en la cadena \"::\""
   ]
  },
  {
   "cell_type": "code",
   "execution_count": 161,
   "id": "6e3a97ac",
   "metadata": {},
   "outputs": [
    {
     "data": {
      "text/plain": [
       "'a::b::Hello'"
      ]
     },
     "execution_count": 161,
     "metadata": {},
     "output_type": "execute_result"
    }
   ],
   "source": [
    " \"::\".join(pieces)"
   ]
  },
  {
   "cell_type": "markdown",
   "id": "365f361d",
   "metadata": {},
   "source": [
    "**Regular Expressions**\n",
    "\n",
    "Las refunciones del módulo se dividen en tres categorías: coincidencia de patrones, sustitución y división.\n",
    "Naturalmente, todos estos están relacionados; una expresión regular describe un patrón para ubicar en el texto, que luego puede usarse para muchos propósitos.\n",
    "\n",
    "**String Functions in pandas**\n",
    "\n",
    "Limpiar un conjunto de datos desordenado para su análisis a menudo requiere mucha manipulación de cadenas. Para complicar las cosas, a una columna que contiene cadenas a veces le faltan datos."
   ]
  },
  {
   "cell_type": "code",
   "execution_count": 168,
   "id": "dd34982a",
   "metadata": {},
   "outputs": [],
   "source": [
    "  data = {\"Alma\": \"alma@google.com\", \"Dirce\": \"dirce@gmail.com\",\n",
    "   .....:         \"Ramos\": \"Ramos@gmail.com\", \"Wes\": np.nan}"
   ]
  },
  {
   "cell_type": "code",
   "execution_count": 169,
   "id": "755dd217",
   "metadata": {},
   "outputs": [],
   "source": [
    " data = pd.Series(data)"
   ]
  },
  {
   "cell_type": "code",
   "execution_count": 170,
   "id": "5710d564",
   "metadata": {},
   "outputs": [
    {
     "data": {
      "text/plain": [
       "Alma     alma@google.com\n",
       "Dirce    dirce@gmail.com\n",
       "Ramos    Ramos@gmail.com\n",
       "Wes                  NaN\n",
       "dtype: object"
      ]
     },
     "execution_count": 170,
     "metadata": {},
     "output_type": "execute_result"
    }
   ],
   "source": [
    " data"
   ]
  },
  {
   "cell_type": "code",
   "execution_count": 171,
   "id": "cf50c5e1",
   "metadata": {},
   "outputs": [
    {
     "data": {
      "text/plain": [
       "Alma     False\n",
       "Dirce    False\n",
       "Ramos    False\n",
       "Wes       True\n",
       "dtype: bool"
      ]
     },
     "execution_count": 171,
     "metadata": {},
     "output_type": "execute_result"
    }
   ],
   "source": [
    " data.isna()"
   ]
  },
  {
   "cell_type": "markdown",
   "id": "95d50e98",
   "metadata": {},
   "source": [
    "Series tiene métodos orientados a matrices para operaciones de cadenas que omiten y propagan valores NA. Se accede a estos a través del **str** atributo de Serie, por ejemplo se puede comprobar si cada dirección de correo \"gmail\" esta en **str.contains**"
   ]
  },
  {
   "cell_type": "code",
   "execution_count": 172,
   "id": "e1181b1d",
   "metadata": {},
   "outputs": [
    {
     "data": {
      "text/plain": [
       "Alma     False\n",
       "Dirce     True\n",
       "Ramos     True\n",
       "Wes        NaN\n",
       "dtype: object"
      ]
     },
     "execution_count": 172,
     "metadata": {},
     "output_type": "execute_result"
    }
   ],
   "source": [
    " data.str.contains(\"gmail\")"
   ]
  },
  {
   "cell_type": "markdown",
   "id": "24630200",
   "metadata": {},
   "source": [
    "**Categorical Data**\n",
    " \n",
    "\n",
    "**Background and Motivation**\n",
    "\n",
    "En varios sistemas de manejo de información, como bases de datos o software estadístico, se han creado métodos especiales para manejar datos que se repiten con el fin de ahorrar espacio y procesamiento. Este enfoque ayuda a optimizar el almacenamiento y los cálculos relacionados con los datos repetidos.\n",
    "\n",
    "**Categorical Extension Type in pandas**\n",
    "\n",
    "Pandas tiene un **Categorical** tipo de extensión especial para almacenar datos que utiliza la representación o codificación categórica basada en números enteros . Esta es una técnica de compresión de datos popular para datos con muchas apariciones de valores similares y puede proporcionar un rendimiento significativamente más rápido con un menor uso de memoria, especialmente para datos de cadenas.\n",
    "\n",
    "**Computations with Categoricals**\n",
    "\n",
    "El uso de *Categorical* en pandas en comparación con la versión no codificada (como una matriz de cadenas) generalmente se comporta de la misma manera. Algunas partes de *pandas*, como la función **groupby**, funcionan mejor cuando se trabaja con categóricos. También hay algunas funciones que pueden utilizar la **ordered** bandera.\n",
    "\n",
    "**Categorical Methods**\n",
    "\n",
    "En conjuntos de datos grandes, los categóricos se utilizan a menudo como una herramienta conveniente para ahorrar memoria y mejorar el rendimiento. Después de filtrar un DataFrame o una serie grande, es posible que muchas de las categorías no aparezcan en los datos. Para solucionar esto se utiliza el metodo de **remove_unused_categories**  para recortar categorías no observadas.\n"
   ]
  },
  {
   "cell_type": "markdown",
   "id": "87340f19",
   "metadata": {},
   "source": [
    "**Métodos categóricos para series en Pandas**\n",
    "\n",
    "**add_categories:**\tAgregar categorías nuevas (no utilizadas) al final de las categorías existentes\n",
    "\n",
    "**as_ordered:**\tHacer categorías ordenadas\n",
    "\n",
    "**as_unordered:**\tHacer categorías desordenadas\n",
    "\n",
    "**remove_categories:**\tEliminar categorías, estableciendo los valores eliminados en nulo.\n",
    "\n",
    "**remove_unused_categories:**\tElimine cualquier valor de categoría que no aparezca en los datos.\n",
    "\n",
    "**rename_categories:**\tReemplaza las categorías con el conjunto indicado de nuevos nombres de categorías; No se puede cambiar el número de categorías.\n",
    "\n",
    "**reorder_categories:**\tSe comporta como *rename_categories*, pero también puede cambiar el resultado para tener categorías ordenadas.\n",
    "\n",
    "**set_categories:**\tReemplaza las categorías con el conjunto indicado de nuevas categorías; puede agregar o eliminar categorías."
   ]
  }
 ],
 "metadata": {
  "kernelspec": {
   "display_name": "Python 3 (ipykernel)",
   "language": "python",
   "name": "python3"
  },
  "language_info": {
   "codemirror_mode": {
    "name": "ipython",
    "version": 3
   },
   "file_extension": ".py",
   "mimetype": "text/x-python",
   "name": "python",
   "nbconvert_exporter": "python",
   "pygments_lexer": "ipython3",
   "version": "3.11.5"
  }
 },
 "nbformat": 4,
 "nbformat_minor": 5
}
